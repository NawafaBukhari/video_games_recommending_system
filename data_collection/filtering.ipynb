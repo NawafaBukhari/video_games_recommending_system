{
 "cells": [
  {
   "cell_type": "code",
   "execution_count": null,
   "metadata": {},
   "outputs": [],
   "source": [
    "import collections\n",
    "import pandas as pd\n",
    "import ast\n",
    "import json\n",
    "import numpy as np\n",
    "import re\n",
    "pd.set_option('display.max_columns', np.nan)"
   ]
  },
  {
   "cell_type": "code",
   "execution_count": null,
   "metadata": {},
   "outputs": [],
   "source": [
    "#read dataset\n",
    "df = pd.read_csv('igb_databaselastnoslug.csv')\n",
    "#creating lists \n",
    "df_names = []"
   ]
  },
  {
   "cell_type": "code",
   "execution_count": null,
   "metadata": {},
   "outputs": [],
   "source": [
    "#clean columns for merging\n",
    "#remove spaces and keep only alphanumeric\n",
    "for index,i in df.iterrows():\n",
    "    try:\n",
    "        df_names.append((re.sub(r'\\W+', '',i['name'])))\n",
    "    except:\n",
    "        df_names.append(i['name'])\n",
    "#insert it as columns\n",
    "df = df.assign(new_name = df_names)"
   ]
  },
  {
   "cell_type": "code",
   "execution_count": null,
   "metadata": {},
   "outputs": [],
   "source": [
    "#drop duplicated on new_name column\n",
    "df.drop_duplicates(subset=['new_name'],inplace=True)\n",
    "df.reset_index(inplace=True)\n",
    "df.columns"
   ]
  },
  {
   "cell_type": "code",
   "execution_count": null,
   "metadata": {},
   "outputs": [],
   "source": [
    "#replacing '' as missing\n",
    "df.replace('',np.nan)"
   ]
  },
  {
   "cell_type": "code",
   "execution_count": null,
   "metadata": {},
   "outputs": [],
   "source": [
    "#reset index\n",
    "df.reset_index(inplace=True)\n",
    "#checking missing values\n",
    "df.isna().sum()"
   ]
  },
  {
   "cell_type": "code",
   "execution_count": null,
   "metadata": {},
   "outputs": [],
   "source": [
    "#functions to clean some columns, based on the methodology of needed for each column\n",
    "\n",
    "def filiterlists(columns_df):\n",
    "    returned_list = []\n",
    "    for i in columns_df:\n",
    "        words = ''\n",
    "        if(i == '' or pd.isnull(i)):\n",
    "            break\n",
    "        cool = ast.literal_eval(i)\n",
    "        for i in cool:\n",
    "            s = str(i).replace('\\'','\\\"').replace('[','').replace(']','')\n",
    "            word = json.loads(s)['name']\n",
    "            words += word + ','\n",
    "        returned_list.append(words[:-1])\n",
    "    return returned_list\n",
    "#method for simillar columns that needs cleaning\n",
    "def filter_simillar(column,dataframe):\n",
    "    list = []\n",
    "    for i in dataframe[column]:\n",
    "        try:\n",
    "            row = ast.literal_eval(i)\n",
    "            words = ''\n",
    "            for ob in row:\n",
    "                words += ob['name'] + ','\n",
    "            list.append(words[:-1])\n",
    "        except:\n",
    "            list.append(np.nan)\n",
    "    return list"
   ]
  },
  {
   "cell_type": "code",
   "execution_count": null,
   "metadata": {},
   "outputs": [],
   "source": [
    "#%%\n",
    "#cleaning columns from IGDB database\n",
    "#clean game_modes column\n",
    "game_modes = filiterlists(df['game_modes'])\n",
    "#clean involed_companies column\n",
    "involed_companies = []\n",
    "for i in df['involved_companies']:\n",
    "    try:\n",
    "        row = ast.literal_eval(i)\n",
    "        words = ''\n",
    "        for ob in row:\n",
    "            name = ob['company']\n",
    "            words += name['name'] + ','\n",
    "        involed_companies.append(words[:-1])\n",
    "    except:\n",
    "        involed_companies.append(np.nan)\n",
    "\n",
    "#clean age_rating column\n",
    "age_rating = []\n",
    "for index,i in df.iterrows():\n",
    "    try:\n",
    "        words = ''\n",
    "        for i in ast.literal_eval(i['age_ratings']):\n",
    "            for i in i['content_descriptions']:\n",
    "                words += i['description'] + ','\n",
    "        age_rating.append(words[:-1])\n",
    "    except:\n",
    "        age_rating.append(np.nan)\n",
    "#clean player_perspectives column\n",
    "player_perspectives = []\n",
    "for index,i in df.iterrows():\n",
    "    try:\n",
    "        words = ''\n",
    "        for i in ast.literal_eval(i['player_perspectives']):\n",
    "            words += i['name'] + ','\n",
    "        player_perspectives.append(words[:-1])\n",
    "    except:\n",
    "        player_perspectives.append(np.nan)\n",
    "#clean franchises column\n",
    "franchises = []\n",
    "for index,i in df.iterrows():\n",
    "    try:\n",
    "        words = ''\n",
    "        for i in ast.literal_eval(i['franchises']):\n",
    "            for i in i['games']:\n",
    "                words += i['name'] + ','\n",
    "        franchises.append(words[:-1])\n",
    "    except:\n",
    "        franchises.append(np.nan)\n",
    "#clean collection column\n",
    "collection = []\n",
    "for index,i in df.iterrows():\n",
    "    try:\n",
    "        words = ''\n",
    "        for i in ast.literal_eval(i['collection'])['games']:\n",
    "            words += i['name'] + ','\n",
    "        collection.append(words[:-1])\n",
    "    except:\n",
    "        collection.append(np.nan)  \n",
    "#clean external_games column\n",
    "external_games = filter_simillar('external_games',df)\n",
    "#clean genres column\n",
    "genres = filter_simillar('genres',df)        \n",
    "#clean platforms column\n",
    "platforms = filter_simillar('platforms',df)\n",
    "#clean similar_games column\n",
    "similar_games = filter_simillar('similar_games',df)\n",
    "#clean game_modes\n",
    "game_modes = filter_simillar('game_modes',df)\n",
    "#clean themes column\n",
    "themes = filter_simillar('themes',df)\n",
    "#clean game_engines column\n",
    "game_engines = filter_simillar('game_engines',df)"
   ]
  },
  {
   "cell_type": "code",
   "execution_count": null,
   "metadata": {},
   "outputs": [],
   "source": [
    "#drop old uncleaned columns\n",
    "df.drop(columns=['platforms','similar_games','external_games','new_name','genres','index','themes','player_perspectives','similar_games',\n",
    "'game_modes','age_ratings','involved_companies','game_engines','franchises','collection'],inplace=True)"
   ]
  },
  {
   "cell_type": "code",
   "execution_count": null,
   "metadata": {},
   "outputs": [],
   "source": [
    "#insert new cleaned columns\n",
    "df = df.assign(external_games = external_games,genres = genres,platforms = platforms,\n",
    "similar_games = similar_games,themes=themes,player_perspectives=player_perspectives\n",
    ",game_modes = game_modes,age_ratings=age_rating,involved_companies = involed_companies,\n",
    "franchises = franchises, game_engines = game_engines,collection = collection)"
   ]
  },
  {
   "cell_type": "code",
   "execution_count": null,
   "metadata": {},
   "outputs": [],
   "source": [
    "#drop redundent columns\n",
    "df.drop(columns=['slug',],inplace=True)"
   ]
  },
  {
   "cell_type": "code",
   "execution_count": null,
   "metadata": {},
   "outputs": [],
   "source": [
    "#id from int to string\n",
    "df['id'] = df['id'].astype(str)"
   ]
  },
  {
   "cell_type": "code",
   "execution_count": null,
   "metadata": {},
   "outputs": [],
   "source": [
    "#reorder columns only significant \n",
    "df = df[['name','id','summary','game_engines', \n",
    "         'collection',\n",
    "       'storyline', 'franchises',\n",
    "        'expansions', 'dlcs', 'franchise',\n",
    "       'external_games', 'genres', 'platforms', 'similar_games', 'themes',\n",
    "       'player_perspectives', 'game_modes',\n",
    "       'involved_companies']]"
   ]
  },
  {
   "cell_type": "code",
   "execution_count": null,
   "metadata": {},
   "outputs": [],
   "source": [
    "#check for missing values\n",
    "df.isna().sum()"
   ]
  },
  {
   "cell_type": "code",
   "execution_count": null,
   "metadata": {},
   "outputs": [],
   "source": [
    "# %%\n",
    "df.head()"
   ]
  },
  {
   "cell_type": "code",
   "execution_count": null,
   "metadata": {},
   "outputs": [],
   "source": [
    "#save dataframe as csv file\n",
    "df.to_csv('IGDB.csv',encoding='utf-8',index=False)"
   ]
  }
 ],
 "metadata": {
  "language_info": {
   "name": "python"
  },
  "orig_nbformat": 4
 },
 "nbformat": 4,
 "nbformat_minor": 2
}
