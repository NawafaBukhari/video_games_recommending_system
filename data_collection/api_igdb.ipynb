{
 "cells": [
  {
   "cell_type": "code",
   "execution_count": null,
   "metadata": {},
   "outputs": [],
   "source": [
    "import pandas as pd\n",
    "import requests\n",
    "import json"
   ]
  },
  {
   "cell_type": "code",
   "execution_count": null,
   "metadata": {},
   "outputs": [],
   "source": [
    "#post = requests.post('https://id.twitch.tv/oauth2/token?client_id=fvpp468ntdffz00jlibmjnakz2gfs6&client_secret=Key&grant_type=client_credentials')\n",
    "headers = {\n",
    "    'User-Agent': 'Mozilla/5.0 (Windows NT 10.0; Win64; x64) AppleWebKit/537.36 (KHTML, like Gecko) Chrome/68.0.3440.84 Safari/537.36',\n",
    "    'accept': 'text/html,application/xhtml+xml,application/xml;q=0.9,image/webp,image/apng,*/*;q=0.8',\n",
    "}\n",
    "#post.content"
   ]
  },
  {
   "cell_type": "code",
   "execution_count": null,
   "metadata": {},
   "outputs": [],
   "source": [
    "#create dataframe to hold data\n",
    "dfall = pd.DataFrame()\n",
    "#iterate through database\n",
    "for i in range(0,170000,500):\n",
    "    #send request to api using your api id and key, data is what returned\n",
    "    x = requests.post(\"https://api.igdb.com/v4/games/\", headers = {\"Client-ID\": \"fvpp468ntdffz00jlibmjnakz2gfs6\", \"Authorization\": \"Bearer Key\"},\n",
    "    data = 'fields name,storyline,slug,age_ratings.content_descriptions.description,external_games.name,external_games.platform.name,external_games.platform.summary,genres.name,involved_companies.company.name,involved_companies.company.description,platforms.name,platforms.generation,platforms.summary,platforms.alternative_name,similar_games.name,summary,url,game_modes.name,player_perspectives.name,themes.name,game_engines.name,rating,rating_count,total_rating,total_rating_count,collection.name,collection.games.name,storyline,franchises.name,franchises.games.name,aggregated_rating,aggregated_rating_count,expansions.name,dlcs.name,franchise.name;where category = 0; offset  '+str(i)+'; limit 500;')\n",
    "    #html to json\n",
    "    jsonmes = json.loads(x.content)\n",
    "    #from json to dataframe\n",
    "    df1 = pd.DataFrame.from_dict(jsonmes)\n",
    "    #concat to a dataframe\n",
    "    dfall = pd.concat([dfall,df1],ignore_index=True)"
   ]
  },
  {
   "cell_type": "code",
   "execution_count": null,
   "metadata": {},
   "outputs": [],
   "source": [
    "#save as csv \n",
    "dfall.to_csv('igb_databaselastnoslug.csv',encoding='utf-8',index=False)"
   ]
  }
 ],
 "metadata": {
  "language_info": {
   "name": "python"
  },
  "orig_nbformat": 4
 },
 "nbformat": 4,
 "nbformat_minor": 2
}
