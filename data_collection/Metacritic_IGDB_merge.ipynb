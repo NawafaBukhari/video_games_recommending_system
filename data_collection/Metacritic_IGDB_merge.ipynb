{
 "cells": [
  {
   "cell_type": "code",
   "execution_count": 13,
   "metadata": {},
   "outputs": [],
   "source": [
    "import pandas as pd\n",
    "import numpy as np\n"
   ]
  },
  {
   "cell_type": "code",
   "execution_count": 14,
   "metadata": {},
   "outputs": [],
   "source": [
    "#read datasets\n",
    "df = pd.read_csv('meta_cretic.csv')\n",
    "dfpeople = pd.read_csv('people.csv')\n",
    "df2 = pd.read_csv('IGDB.csv')\n",
    "#drop duplicates\n",
    "df.drop_duplicates(subset=['name'],inplace=True)\n",
    "df.reset_index(inplace=True)\n"
   ]
  },
  {
   "cell_type": "code",
   "execution_count": 15,
   "metadata": {},
   "outputs": [],
   "source": [
    "#rename columns\n",
    "dfpeople.rename(columns={'game_name':'name'},inplace=True)\n",
    "dfpeople.drop_duplicates(subset=['name'],inplace=True)\n",
    "#merge all datasets and keep values on the left dataset\n",
    "df = pd.merge(df,dfpeople,on='name',how='left')\n",
    "df = pd.merge(df,df2,on='name',how='left')"
   ]
  },
  {
   "cell_type": "code",
   "execution_count": 16,
   "metadata": {},
   "outputs": [
    {
     "data": {
      "text/plain": [
       "(12344, 35)"
      ]
     },
     "execution_count": 16,
     "metadata": {},
     "output_type": "execute_result"
    }
   ],
   "source": [
    "#display columns\n",
    "df.shape"
   ]
  },
  {
   "cell_type": "code",
   "execution_count": 17,
   "metadata": {},
   "outputs": [],
   "source": [
    "dates = []\n",
    "for index,i in df.iterrows():\n",
    "    try:\n",
    "        s = i['release_date']\n",
    "        s = s[s.find(',') + 2:]\n",
    "        dates.append(int(s))\n",
    "    except:\n",
    "        dates.append(np.nan)\n",
    "\n"
   ]
  },
  {
   "cell_type": "code",
   "execution_count": 18,
   "metadata": {},
   "outputs": [],
   "source": [
    "df['number_of_user_reviews']=df['number_of_user_reviews'].str.extract('(\\d+)')"
   ]
  },
  {
   "cell_type": "code",
   "execution_count": 19,
   "metadata": {},
   "outputs": [],
   "source": [
    "l = []\n",
    "for index,i in df.iterrows():\n",
    "    if(i['user_average_rating'] == 'tbd'):\n",
    "        l.append(np.nan)\n",
    "    else:\n",
    "        l.append(float(i['user_average_rating']))\n",
    "df.drop(columns=['user_average_rating','release_date'],inplace=True)\n",
    "\n",
    "df = df.assign(user_average_rating = l,release_date = dates)\n"
   ]
  },
  {
   "cell_type": "code",
   "execution_count": 20,
   "metadata": {},
   "outputs": [],
   "source": [
    "df['number_of_user_reviews'] = df['number_of_user_reviews'].astype(float)"
   ]
  },
  {
   "cell_type": "code",
   "execution_count": 21,
   "metadata": {},
   "outputs": [],
   "source": [
    "df = df[['index', 'name', 'description', 'release_date',\n",
    "       'average_critics_rating', 'number_of_critics_reviews',\n",
    "       'user_average_rating', 'number_of_user_reviews', 'content_rating',\n",
    "       'platform', 'other_platforms', 'genres_x', 'publisher',\n",
    "       'number_of_players', 'developer', 'cast', 'id', 'summary',\n",
    "       'game_engines', 'collection', 'storyline', 'franchises', 'expansions',\n",
    "       'dlcs', 'franchise', 'external_games', 'genres_y', 'platforms',\n",
    "       'similar_games', 'themes', 'player_perspectives', 'game_modes',\n",
    "       'involved_companies','url','cover_image']]"
   ]
  },
  {
   "cell_type": "code",
   "execution_count": 22,
   "metadata": {},
   "outputs": [],
   "source": [
    "#drop columns and renaming \n",
    "df.drop(columns=['index'],inplace=True)\n",
    "df['id'] = df['id'].astype(str)\n",
    "df.rename(columns={'genres_x':'metacritic_genres','genres_y':'IGDB_genres','cast':'people'},inplace=True)\n"
   ]
  },
  {
   "cell_type": "code",
   "execution_count": 23,
   "metadata": {},
   "outputs": [
    {
     "data": {
      "text/plain": [
       "(12344, 34)"
      ]
     },
     "execution_count": 23,
     "metadata": {},
     "output_type": "execute_result"
    }
   ],
   "source": [
    "df.shape"
   ]
  },
  {
   "cell_type": "code",
   "execution_count": 24,
   "metadata": {},
   "outputs": [],
   "source": [
    "#save dataset\n",
    "df.to_csv('video_games_final.csv',encoding='utf-8',index=False)"
   ]
  }
 ],
 "metadata": {
  "interpreter": {
   "hash": "e11f1b971417b5a1fcb6adcb1fca1aa5d80a4479e43b4ca77fd4eb115450735d"
  },
  "kernelspec": {
   "display_name": "Python 3.8.8 64-bit (system)",
   "language": "python",
   "name": "python3"
  },
  "language_info": {
   "codemirror_mode": {
    "name": "ipython",
    "version": 3
   },
   "file_extension": ".py",
   "mimetype": "text/x-python",
   "name": "python",
   "nbconvert_exporter": "python",
   "pygments_lexer": "ipython3",
   "version": "3.8.8"
  },
  "orig_nbformat": 4
 },
 "nbformat": 4,
 "nbformat_minor": 2
}
