{
 "cells": [
  {
   "cell_type": "code",
   "execution_count": 1,
   "metadata": {},
   "outputs": [],
   "source": [
    "import pandas as pd\n",
    "import requests \n",
    "from bs4 import BeautifulSoup\n",
    "import time\n",
    "import numpy as np\n",
    "from concurrent.futures import as_completed\n",
    "from requests_futures.sessions import FuturesSession"
   ]
  },
  {
   "cell_type": "code",
   "execution_count": 3,
   "metadata": {},
   "outputs": [],
   "source": [
    "#list to hold data\n",
    "linksl = []\n",
    "#headers for bot\n",
    "headers = {\n",
    "    'User-Agent': 'Mozilla/5.0 (Windows NT 10.0; Win64; x64) AppleWebKit/537.36 (KHTML, like Gecko) Chrome/68.0.3440.84 Safari/537.36',\n",
    "    'accept': 'text/html,application/xhtml+xml,application/xml;q=0.9,image/webp,image/apng,*/*;q=0.8',\n",
    "}\n",
    "#request page\n",
    "url = \"https://www.metacritic.com/browse/games/score/metascore/all/all/filtered\"\n",
    "page = requests.get(url,headers=headers).text"
   ]
  },
  {
   "cell_type": "code",
   "execution_count": null,
   "metadata": {},
   "outputs": [],
   "source": [
    "soup = BeautifulSoup(page,\"html.parser\")"
   ]
  },
  {
   "cell_type": "code",
   "execution_count": null,
   "metadata": {},
   "outputs": [],
   "source": [
    "table = soup.find('table',{'class':'clamp-list'})\n",
    "links = table.find_all_next('td',{\"class\":\"clamp-summary-wrap\"})"
   ]
  },
  {
   "cell_type": "code",
   "execution_count": null,
   "metadata": {},
   "outputs": [],
   "source": [
    "for i in links:\n",
    "    linksl.append('https://www.metacritic.com'+i.find_next('a',{'class':'title'})['href'])"
   ]
  },
  {
   "cell_type": "code",
   "execution_count": null,
   "metadata": {},
   "outputs": [],
   "source": [
    "#get pages\n",
    "pages = []\n",
    "with FuturesSession() as session:\n",
    "    futures = [session.get('https://www.metacritic.com/browse/games/score/metascore/all/all/filtered?page='+str(i),headers=headers) for i in range(1,190,1)]\n",
    "    for future in as_completed(futures):\n",
    "        pages.append(future.result().content)"
   ]
  },
  {
   "cell_type": "code",
   "execution_count": null,
   "metadata": {},
   "outputs": [],
   "source": [
    "for i in pages:\n",
    "    soup = BeautifulSoup(i,\"html.parser\")\n",
    "    table = soup.find('table',{'class':'clamp-list'})\n",
    "    links = table.find_all_next('td',{\"class\":\"clamp-summary-wrap\"})\n",
    "    for i in links:\n",
    "        linksl.append('https://www.metacritic.com'+i.find_next('a',{'class':'title'})['href'])"
   ]
  },
  {
   "cell_type": "code",
   "execution_count": 5,
   "metadata": {},
   "outputs": [],
   "source": [
    "temp = pd.DataFrame()\n",
    "df = temp.assign(links = linksl)"
   ]
  },
  {
   "cell_type": "code",
   "execution_count": null,
   "metadata": {},
   "outputs": [],
   "source": [
    "df.to_csv('meta_links.csv',encoding='utf-8',index=False)"
   ]
  }
 ],
 "metadata": {
  "interpreter": {
   "hash": "e11f1b971417b5a1fcb6adcb1fca1aa5d80a4479e43b4ca77fd4eb115450735d"
  },
  "kernelspec": {
   "display_name": "Python 3.8.8 64-bit (system)",
   "language": "python",
   "name": "python3"
  },
  "language_info": {
   "codemirror_mode": {
    "name": "ipython",
    "version": 3
   },
   "file_extension": ".py",
   "mimetype": "text/x-python",
   "name": "python",
   "nbconvert_exporter": "python",
   "pygments_lexer": "ipython3",
   "version": "3.8.8"
  },
  "orig_nbformat": 4
 },
 "nbformat": 4,
 "nbformat_minor": 2
}
